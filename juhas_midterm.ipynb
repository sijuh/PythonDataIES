{
 "cells": [
  {
   "cell_type": "markdown",
   "id": "0931b34f-ee76-452d-a4f1-52990c9d22e9",
   "metadata": {},
   "source": [
    "Part 1"
   ]
  },
  {
   "cell_type": "code",
   "execution_count": 109,
   "id": "0f8bc2b5-0f13-4dd2-8b60-d2ae46444a38",
   "metadata": {},
   "outputs": [],
   "source": [
    "import pandas as pd\n",
    "import numpy as np\n",
    "import matplotlib.pyplot as plt"
   ]
  },
  {
   "cell_type": "code",
   "execution_count": 84,
   "id": "05ac186a-e513-4c09-a8d8-cde39ad2e47a",
   "metadata": {},
   "outputs": [],
   "source": [
    "dow=pd.read_csv(\"data/DOW.csv\")\n",
    "fis=pd.read_csv(\"data/FIS.csv\")\n",
    "idxx=pd.read_csv(\"data/IDXX.csv\")\n",
    "whr=pd.read_csv(\"data/WHR.csv\")"
   ]
  },
  {
   "cell_type": "code",
   "execution_count": 85,
   "id": "c9a812c7-d488-4f09-ae8c-5eb451422061",
   "metadata": {},
   "outputs": [
    {
     "data": {
      "text/html": [
       "<div>\n",
       "<style scoped>\n",
       "    .dataframe tbody tr th:only-of-type {\n",
       "        vertical-align: middle;\n",
       "    }\n",
       "\n",
       "    .dataframe tbody tr th {\n",
       "        vertical-align: top;\n",
       "    }\n",
       "\n",
       "    .dataframe thead th {\n",
       "        text-align: right;\n",
       "    }\n",
       "</style>\n",
       "<table border=\"1\" class=\"dataframe\">\n",
       "  <thead>\n",
       "    <tr style=\"text-align: right;\">\n",
       "      <th></th>\n",
       "      <th>Date</th>\n",
       "      <th>High</th>\n",
       "      <th>Low</th>\n",
       "      <th>Open</th>\n",
       "      <th>Close</th>\n",
       "      <th>Volume</th>\n",
       "      <th>Adj Close</th>\n",
       "    </tr>\n",
       "  </thead>\n",
       "  <tbody>\n",
       "    <tr>\n",
       "      <th>0</th>\n",
       "      <td>2019-03-20</td>\n",
       "      <td>53.500000</td>\n",
       "      <td>49.500000</td>\n",
       "      <td>52.750000</td>\n",
       "      <td>49.799999</td>\n",
       "      <td>2350800.0</td>\n",
       "      <td>42.358807</td>\n",
       "    </tr>\n",
       "    <tr>\n",
       "      <th>1</th>\n",
       "      <td>2019-03-21</td>\n",
       "      <td>50.000000</td>\n",
       "      <td>48.200001</td>\n",
       "      <td>49.990002</td>\n",
       "      <td>48.980000</td>\n",
       "      <td>1764700.0</td>\n",
       "      <td>41.661324</td>\n",
       "    </tr>\n",
       "    <tr>\n",
       "      <th>2</th>\n",
       "      <td>2019-03-22</td>\n",
       "      <td>49.950001</td>\n",
       "      <td>48.160000</td>\n",
       "      <td>48.799999</td>\n",
       "      <td>48.599998</td>\n",
       "      <td>844700.0</td>\n",
       "      <td>41.338104</td>\n",
       "    </tr>\n",
       "    <tr>\n",
       "      <th>3</th>\n",
       "      <td>2019-03-25</td>\n",
       "      <td>49.400002</td>\n",
       "      <td>48.000000</td>\n",
       "      <td>48.599998</td>\n",
       "      <td>49.150002</td>\n",
       "      <td>440900.0</td>\n",
       "      <td>41.805935</td>\n",
       "    </tr>\n",
       "    <tr>\n",
       "      <th>4</th>\n",
       "      <td>2019-03-26</td>\n",
       "      <td>49.750000</td>\n",
       "      <td>48.180000</td>\n",
       "      <td>49.000000</td>\n",
       "      <td>48.849998</td>\n",
       "      <td>504700.0</td>\n",
       "      <td>41.550755</td>\n",
       "    </tr>\n",
       "  </tbody>\n",
       "</table>\n",
       "</div>"
      ],
      "text/plain": [
       "         Date       High        Low       Open      Close     Volume  \\\n",
       "0  2019-03-20  53.500000  49.500000  52.750000  49.799999  2350800.0   \n",
       "1  2019-03-21  50.000000  48.200001  49.990002  48.980000  1764700.0   \n",
       "2  2019-03-22  49.950001  48.160000  48.799999  48.599998   844700.0   \n",
       "3  2019-03-25  49.400002  48.000000  48.599998  49.150002   440900.0   \n",
       "4  2019-03-26  49.750000  48.180000  49.000000  48.849998   504700.0   \n",
       "\n",
       "   Adj Close  \n",
       "0  42.358807  \n",
       "1  41.661324  \n",
       "2  41.338104  \n",
       "3  41.805935  \n",
       "4  41.550755  "
      ]
     },
     "execution_count": 85,
     "metadata": {},
     "output_type": "execute_result"
    }
   ],
   "source": [
    "dow.head()"
   ]
  },
  {
   "cell_type": "markdown",
   "id": "49a13584-626a-4880-ac24-1c49e2b1de1d",
   "metadata": {},
   "source": [
    "1."
   ]
  },
  {
   "cell_type": "code",
   "execution_count": 86,
   "id": "e10cef7d-0713-46e1-ba71-6becca90a0d2",
   "metadata": {},
   "outputs": [
    {
     "data": {
      "text/plain": [
       "0       21.299393\n",
       "1       21.211121\n",
       "2       21.286209\n",
       "3       20.489410\n",
       "4       20.806396\n",
       "          ...    \n",
       "1254     0.000000\n",
       "1255     0.000000\n",
       "1256     0.000000\n",
       "1257     0.000000\n",
       "1258     0.000000\n",
       "Length: 1259, dtype: float64"
      ]
     },
     "execution_count": 86,
     "metadata": {},
     "output_type": "execute_result"
    }
   ],
   "source": [
    "dow[\"Close\"]-dow[\"Adj Close\"]\n",
    "fis[\"Close\"]-fis[\"Adj Close\"]\n",
    "idxx[\"Close\"]-idxx[\"Adj Close\"]\n",
    "whr[\"Close\"]-whr[\"Adj Close\"]"
   ]
  },
  {
   "cell_type": "code",
   "execution_count": 87,
   "id": "90de64df-e7dd-4d51-87b8-45cbcb2a5c08",
   "metadata": {},
   "outputs": [
    {
     "name": "stdout",
     "output_type": "stream",
     "text": [
      "70.61000061035156\n",
      "19.87366104125977\n"
     ]
    }
   ],
   "source": [
    "print(max(dow[\"Adj Close\"]))\n",
    "print(min(dow[\"Adj Close\"]))"
   ]
  },
  {
   "cell_type": "code",
   "execution_count": 88,
   "id": "dc0ead03-df7e-40e4-ac45-076ad4cfd1b2",
   "metadata": {},
   "outputs": [
    {
     "name": "stdout",
     "output_type": "stream",
     "text": [
      "154.2307586669922\n",
      "57.18000030517578\n"
     ]
    }
   ],
   "source": [
    "print(max(fis[\"Adj Close\"]))\n",
    "print(min(fis[\"Adj Close\"]))"
   ]
  },
  {
   "cell_type": "code",
   "execution_count": 89,
   "id": "812337ab-2437-4a7e-ac08-a1ce50507f80",
   "metadata": {},
   "outputs": [
    {
     "name": "stdout",
     "output_type": "stream",
     "text": [
      "705.760009765625\n",
      "147.7899932861328\n"
     ]
    }
   ],
   "source": [
    "print(max(idxx[\"Adj Close\"]))\n",
    "print(min(idxx[\"Adj Close\"]))"
   ]
  },
  {
   "cell_type": "code",
   "execution_count": 90,
   "id": "0ed9b663-1f81-40e9-9a07-b2d6493f9802",
   "metadata": {},
   "outputs": [
    {
     "name": "stdout",
     "output_type": "stream",
     "text": [
      "246.1545562744141\n",
      "60.57115173339844\n"
     ]
    }
   ],
   "source": [
    "print(max(whr[\"Adj Close\"]))\n",
    "print(min(whr[\"Adj Close\"]))"
   ]
  },
  {
   "cell_type": "markdown",
   "id": "f0f18f2d-d955-427e-a334-74ea956631ce",
   "metadata": {},
   "source": [
    "3."
   ]
  },
  {
   "cell_type": "code",
   "execution_count": 91,
   "id": "c3ba2d8a-017a-45c1-9532-4b52e550755e",
   "metadata": {},
   "outputs": [],
   "source": [
    "ldow=(np.log(dow[\"Adj Close\"]/dow[\"Adj Close\"].shift(1))).dropna()\n",
    "lfis=(np.log(fis[\"Adj Close\"]/fis[\"Adj Close\"].shift(1))).dropna()\n",
    "lidxx=(np.log(idxx[\"Adj Close\"]/idxx[\"Adj Close\"].shift(1))).dropna()\n",
    "lwhr=(np.log(whr[\"Adj Close\"]/whr[\"Adj Close\"].shift(1))).dropna()"
   ]
  },
  {
   "cell_type": "code",
   "execution_count": 92,
   "id": "f89bde72-753a-40c8-9d85-b0a3d6d0330e",
   "metadata": {},
   "outputs": [
    {
     "name": "stdout",
     "output_type": "stream",
     "text": [
      "min    -0.244082\n",
      "max     0.189869\n",
      "mean    0.000246\n",
      "Name: Adj Close, dtype: float64\n",
      "median:  0.00016392736053328814\n"
     ]
    }
   ],
   "source": [
    "print(ldow.describe()[[\"min\", \"max\", \"mean\"]])\n",
    "print(\"median: \", ldow.median())"
   ]
  },
  {
   "cell_type": "code",
   "execution_count": 93,
   "id": "294706cf-ff25-43ff-9c2c-193119593102",
   "metadata": {},
   "outputs": [
    {
     "name": "stdout",
     "output_type": "stream",
     "text": [
      "min    -0.329175\n",
      "max     0.151092\n",
      "mean   -0.000240\n",
      "Name: Adj Close, dtype: float64\n",
      "median:  0.0006479463486142474\n"
     ]
    }
   ],
   "source": [
    "print(lfis.describe()[[\"min\", \"max\", \"mean\"]])\n",
    "print(\"median: \", lfis.median())"
   ]
  },
  {
   "cell_type": "code",
   "execution_count": 94,
   "id": "19e943f0-3131-49fb-bbe1-bb41a4ae627a",
   "metadata": {},
   "outputs": [
    {
     "name": "stdout",
     "output_type": "stream",
     "text": [
      "min    -0.127116\n",
      "max     0.113803\n",
      "mean    0.000870\n",
      "Name: Adj Close, dtype: float64\n",
      "median:  0.002371396487977601\n"
     ]
    }
   ],
   "source": [
    "print(lidxx.describe()[[\"min\", \"max\", \"mean\"]])\n",
    "print(\"median: \", lidxx.median())"
   ]
  },
  {
   "cell_type": "code",
   "execution_count": 95,
   "id": "bf70cd30-b630-469c-ae72-ab1f82b9e87c",
   "metadata": {},
   "outputs": [
    {
     "name": "stdout",
     "output_type": "stream",
     "text": [
      "min    -0.218325\n",
      "max     0.259053\n",
      "mean    0.000087\n",
      "Name: Adj Close, dtype: float64\n",
      "median:  0.0009001676001732651\n"
     ]
    }
   ],
   "source": [
    "print(lwhr.describe()[[\"min\", \"max\", \"mean\"]])\n",
    "print(\"median: \", lwhr.median())"
   ]
  },
  {
   "cell_type": "markdown",
   "id": "f3f9bfbb-5c45-4396-9ade-efc9346294fb",
   "metadata": {},
   "source": [
    "4."
   ]
  },
  {
   "cell_type": "code",
   "execution_count": 96,
   "id": "e237deb3-b5a8-4010-a437-53a012af983f",
   "metadata": {},
   "outputs": [],
   "source": [
    "dow[\"lreturns\"]=ldow\n",
    "fis[\"lreturns\"]=lfis\n",
    "idxx[\"lreturns\"]=lidxx\n",
    "whr[\"lreturns\"]=lwhr\n",
    "\n",
    "dow=dow.set_index([\"Date\"])\n",
    "fis=fis.set_index([\"Date\"])\n",
    "idxx=idxx.set_index([\"Date\"])\n",
    "whr=whr.set_index([\"Date\"])"
   ]
  },
  {
   "cell_type": "code",
   "execution_count": 99,
   "id": "dc404c23",
   "metadata": {},
   "outputs": [
    {
     "data": {
      "text/plain": [
       "'2020-03-24'"
      ]
     },
     "execution_count": 99,
     "metadata": {},
     "output_type": "execute_result"
    }
   ],
   "source": [
    "8."
   ]
  },
  {
   "cell_type": "code",
   "execution_count": 101,
   "id": "5a99202e-1bf7-4276-bf2d-cf755866bcbf",
   "metadata": {},
   "outputs": [
    {
     "data": {
      "text/plain": [
       "'2020-03-24'"
      ]
     },
     "execution_count": 101,
     "metadata": {},
     "output_type": "execute_result"
    }
   ],
   "source": [
    "fis[\"lreturns\"].idxmax()"
   ]
  },
  {
   "cell_type": "code",
   "execution_count": 102,
   "id": "6acca966-8dca-40f0-8412-5da9d5730d5a",
   "metadata": {},
   "outputs": [
    {
     "data": {
      "text/plain": [
       "'2020-03-24'"
      ]
     },
     "execution_count": 102,
     "metadata": {},
     "output_type": "execute_result"
    }
   ],
   "source": [
    "idxx[\"lreturns\"].idxmax()"
   ]
  },
  {
   "cell_type": "code",
   "execution_count": 103,
   "id": "812eec5d-d578-4f51-97d6-a7fafab54195",
   "metadata": {},
   "outputs": [
    {
     "data": {
      "text/plain": [
       "'2020-03-24'"
      ]
     },
     "execution_count": 103,
     "metadata": {},
     "output_type": "execute_result"
    }
   ],
   "source": [
    "whr[\"lreturns\"].idxmax()"
   ]
  },
  {
   "cell_type": "markdown",
   "id": "4012f063-75d8-47d9-907e-96c58fed8925",
   "metadata": {},
   "source": [
    "7."
   ]
  },
  {
   "cell_type": "code",
   "execution_count": 114,
   "id": "e41f8c2a-83d1-46fd-a70d-c01469ad70d4",
   "metadata": {},
   "outputs": [
    {
     "data": {
      "text/plain": [
       "<matplotlib.legend.Legend at 0x7f9123429280>"
      ]
     },
     "execution_count": 114,
     "metadata": {},
     "output_type": "execute_result"
    },
    {
     "data": {
      "image/png": "[encoded data removed]",
      "text/plain": [
       "<Figure size 432x288 with 1 Axes>"
      ]
     },
     "metadata": {
      "needs_background": "light"
     },
     "output_type": "display_data"
    }
   ],
   "source": [
    "dow[\"lreturns\"].plot() \n",
    "fis[\"lreturns\"].plot()\n",
    "idxx[\"lreturns\"].plot()\n",
    "whr[\"lreturns\"].plot()\n",
    "plt.legend([\"dow\", \"fis\", \"idxx\", \"whr\"])"
   ]
  },
  {
   "cell_type": "markdown",
   "id": "fec22ac3-727a-4979-ad9a-6eb066b0a3a1",
   "metadata": {},
   "source": [
    "8."
   ]
  },
  {
   "cell_type": "code",
   "execution_count": 116,
   "id": "bcd998f4-2098-4c06-8b9b-928d77b94ecb",
   "metadata": {},
   "outputs": [
    {
     "data": {
      "text/plain": [
       "<matplotlib.legend.Legend at 0x7f9122dc22b0>"
      ]
     },
     "execution_count": 116,
     "metadata": {},
     "output_type": "execute_result"
    },
    {
     "data": {
      "image/png": "[encoded data removed]",
      "text/plain": [
       "<Figure size 432x288 with 1 Axes>"
      ]
     },
     "metadata": {
      "needs_background": "light"
     },
     "output_type": "display_data"
    }
   ],
   "source": [
    "dow[\"lreturns\"].hist()\n",
    "fis[\"lreturns\"].hist()\n",
    "idxx[\"lreturns\"].hist()\n",
    "whr[\"lreturns\"].hist()\n",
    "plt.legend([\"dow\", \"fis\", \"idxx\", \"whr\"])"
   ]
  },
  {
   "cell_type": "markdown",
   "id": "130db0f3-ba89-40e4-921f-e1fb71b4b8c6",
   "metadata": {},
   "source": [
    "# Part 2"
   ]
  },
  {
   "cell_type": "code",
   "execution_count": 118,
   "id": "e1049e82-d69c-4e1d-8b0b-05ba8aefe1d5",
   "metadata": {},
   "outputs": [],
   "source": [
    "df=pd.read_csv(\"https://ies-python-midterm.s3.eu-central-1.amazonaws.com/companies/companies_no_subindustry.csv\")"
   ]
  },
  {
   "cell_type": "code",
   "execution_count": null,
   "id": "a36d4175-b853-40a8-ba43-cac5ef63701c",
   "metadata": {},
   "outputs": [],
   "source": []
  }
 ],
 "metadata": {
  "kernelspec": {
   "display_name": "Python 3 (ipykernel)",
   "language": "python",
   "name": "python3"
  },
  "language_info": {
   "codemirror_mode": {
    "name": "ipython",
    "version": 3
   },
   "file_extension": ".py",
   "mimetype": "text/x-python",
   "name": "python",
   "nbconvert_exporter": "python",
   "pygments_lexer": "ipython3",
   "version": "3.9.12"
  }
 },
 "nbformat": 4,
 "nbformat_minor": 5
}
